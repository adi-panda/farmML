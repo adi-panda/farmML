{
 "cells": [
  {
   "cell_type": "code",
   "execution_count": 19,
   "id": "54b3b65e",
   "metadata": {},
   "outputs": [],
   "source": [
    "import numpy as np\n",
    "import pandas as pd\n",
    "from sklearn.model_selection import train_test_split\n",
    "from sklearn.neighbors import KNeighborsClassifier"
   ]
  },
  {
   "cell_type": "code",
   "execution_count": 20,
   "id": "2fb6c83e",
   "metadata": {},
   "outputs": [],
   "source": [
    "crop = pd.read_csv('./cropdata.csv')\n",
    "crop = crop.sort_values('label')\n"
   ]
  },
  {
   "cell_type": "code",
   "execution_count": 21,
   "id": "a1c87f1b",
   "metadata": {},
   "outputs": [],
   "source": [
    "x = crop.drop(['label'], axis = 1)\n",
    "y = crop['label']"
   ]
  },
  {
   "cell_type": "code",
   "execution_count": 22,
   "id": "caa1e983",
   "metadata": {},
   "outputs": [],
   "source": [
    "from sklearn.model_selection import train_test_split\n",
    "X_train, X_test, y_train, y_test = train_test_split(x, y, test_size = 0.20,shuffle = True, random_state = 0)"
   ]
  },
  {
   "cell_type": "code",
   "execution_count": 23,
   "id": "1fa800b0",
   "metadata": {},
   "outputs": [
    {
     "data": {
      "text/plain": [
       "KNeighborsClassifier()"
      ]
     },
     "execution_count": 23,
     "metadata": {},
     "output_type": "execute_result"
    }
   ],
   "source": [
    "kn_classifier = KNeighborsClassifier()\n",
    "kn_classifier.fit(X_train,y_train)"
   ]
  },
  {
   "cell_type": "code",
   "execution_count": 24,
   "id": "e430c618",
   "metadata": {},
   "outputs": [],
   "source": [
    "pred_kn = kn_classifier.predict(X_test)"
   ]
  },
  {
   "cell_type": "code",
   "execution_count": 25,
   "id": "f8c1f9f1",
   "metadata": {},
   "outputs": [
    {
     "name": "stdout",
     "output_type": "stream",
     "text": [
      "Training set score: 0.9881\n",
      "Test set score: 0.9773\n"
     ]
    }
   ],
   "source": [
    "print('Training set score: {:.4f}'.format(kn_classifier.score(X_train, y_train)))\n",
    "print('Test set score: {:.4f}'.format(kn_classifier.score(X_test, y_test)))"
   ]
  },
  {
   "cell_type": "code",
   "execution_count": 26,
   "id": "94123e9c",
   "metadata": {},
   "outputs": [
    {
     "name": "stderr",
     "output_type": "stream",
     "text": [
      "C:\\Anaconda\\envs\\tensorflow-session\\lib\\site-packages\\sklearn\\base.py:450: UserWarning: X does not have valid feature names, but KNeighborsClassifier was fitted with feature names\n",
      "  warnings.warn(\n"
     ]
    },
    {
     "data": {
      "text/plain": [
       "'rice'"
      ]
     },
     "execution_count": 26,
     "metadata": {},
     "output_type": "execute_result"
    }
   ],
   "source": [
    "newdata=kn_classifier.predict([[60,55,44,23.004459,82.320763,7.840207,\t263.964248]])\n",
    "newdata[0]"
   ]
  },
  {
   "cell_type": "code",
   "execution_count": 28,
   "id": "cbda84d1",
   "metadata": {},
   "outputs": [],
   "source": [
    "import pickle \n",
    "\n",
    "# Its important to use binary mode \n",
    "knnPickle = open('knnpickle_file', 'wb') \n",
    "      \n",
    "# source, destination \n",
    "pickle.dump(kn_classifier, knnPickle)  \n",
    "\n",
    "# close the file\n",
    "knnPickle.close()\n",
    " "
   ]
  },
  {
   "cell_type": "code",
   "execution_count": 29,
   "id": "28002fbc",
   "metadata": {},
   "outputs": [
    {
     "name": "stdout",
     "output_type": "stream",
     "text": [
      "['mothbeans' 'mothbeans' 'mango' 'blackgram' 'grapes' 'apple' 'coffee'\n",
      " 'chickpea' 'mungbean' 'lentil' 'coffee' 'watermelon' 'jute' 'cotton'\n",
      " 'maize' 'muskmelon' 'watermelon' 'jute' 'watermelon' 'maize' 'pigeonpeas'\n",
      " 'grapes' 'chickpea' 'rice' 'pomegranate' 'watermelon' 'rice' 'orange'\n",
      " 'coffee' 'chickpea' 'kidneybeans' 'apple' 'banana' 'mungbean'\n",
      " 'pigeonpeas' 'pomegranate' 'maize' 'maize' 'mothbeans' 'coffee' 'banana'\n",
      " 'grapes' 'coconut' 'mothbeans' 'coconut' 'cotton' 'chickpea' 'chickpea'\n",
      " 'pomegranate' 'cotton' 'coffee' 'grapes' 'muskmelon' 'mungbean' 'coconut'\n",
      " 'lentil' 'papaya' 'maize' 'rice' 'pomegranate' 'orange' 'cotton'\n",
      " 'mothbeans' 'apple' 'mungbean' 'muskmelon' 'mango' 'watermelon'\n",
      " 'muskmelon' 'orange' 'pigeonpeas' 'kidneybeans' 'chickpea' 'banana'\n",
      " 'mango' 'coffee' 'blackgram' 'banana' 'jute' 'maize' 'apple' 'grapes'\n",
      " 'mothbeans' 'mothbeans' 'mungbean' 'pomegranate' 'banana' 'jute' 'coffee'\n",
      " 'papaya' 'grapes' 'rice' 'cotton' 'mango' 'cotton' 'banana' 'watermelon'\n",
      " 'rice' 'jute' 'blackgram' 'orange' 'jute' 'cotton' 'lentil' 'lentil'\n",
      " 'apple' 'mothbeans' 'watermelon' 'coconut' 'mungbean' 'mungbean' 'maize'\n",
      " 'watermelon' 'mango' 'orange' 'kidneybeans' 'cotton' 'jute' 'banana'\n",
      " 'rice' 'kidneybeans' 'jute' 'orange' 'blackgram' 'blackgram' 'grapes'\n",
      " 'kidneybeans' 'orange' 'blackgram' 'papaya' 'coffee' 'coffee' 'mungbean'\n",
      " 'cotton' 'banana' 'cotton' 'pigeonpeas' 'kidneybeans' 'orange' 'grapes'\n",
      " 'grapes' 'mango' 'muskmelon' 'watermelon' 'blackgram' 'muskmelon' 'rice'\n",
      " 'maize' 'mothbeans' 'papaya' 'orange' 'kidneybeans' 'coffee' 'lentil'\n",
      " 'kidneybeans' 'blackgram' 'mothbeans' 'grapes' 'muskmelon' 'rice' 'jute'\n",
      " 'coconut' 'rice' 'chickpea' 'chickpea' 'mungbean' 'apple' 'mungbean'\n",
      " 'lentil' 'orange' 'coconut' 'muskmelon' 'coffee' 'pigeonpeas'\n",
      " 'pomegranate' 'cotton' 'chickpea' 'kidneybeans' 'papaya' 'orange' 'apple'\n",
      " 'papaya' 'papaya' 'coconut' 'chickpea' 'lentil' 'pigeonpeas' 'coconut'\n",
      " 'apple' 'papaya' 'banana' 'rice' 'coffee' 'apple' 'banana' 'watermelon'\n",
      " 'coconut' 'pigeonpeas' 'blackgram' 'maize' 'pigeonpeas' 'kidneybeans'\n",
      " 'banana' 'coffee' 'coffee' 'orange' 'mungbean' 'banana' 'coconut'\n",
      " 'lentil' 'blackgram' 'grapes' 'coconut' 'orange' 'coffee' 'cotton'\n",
      " 'maize' 'papaya' 'mungbean' 'kidneybeans' 'apple' 'apple' 'grapes'\n",
      " 'papaya' 'grapes' 'watermelon' 'banana' 'watermelon' 'orange' 'apple'\n",
      " 'coffee' 'cotton' 'orange' 'chickpea' 'kidneybeans' 'pigeonpeas' 'maize'\n",
      " 'cotton' 'pomegranate' 'apple' 'blackgram' 'cotton' 'muskmelon' 'coconut'\n",
      " 'grapes' 'apple' 'mothbeans' 'grapes' 'kidneybeans' 'orange' 'banana'\n",
      " 'mango' 'blackgram' 'coconut' 'rice' 'papaya' 'kidneybeans' 'watermelon'\n",
      " 'maize' 'coffee' 'jute' 'mothbeans' 'kidneybeans' 'apple' 'mango'\n",
      " 'pigeonpeas' 'jute' 'jute' 'blackgram' 'watermelon' 'watermelon' 'papaya'\n",
      " 'kidneybeans' 'banana' 'apple' 'blackgram' 'coconut' 'orange'\n",
      " 'kidneybeans' 'coconut' 'pigeonpeas' 'chickpea' 'kidneybeans' 'mungbean'\n",
      " 'coffee' 'maize' 'jute' 'lentil' 'grapes' 'maize' 'chickpea' 'maize'\n",
      " 'pomegranate' 'cotton' 'papaya' 'mango' 'mango' 'coconut' 'papaya' 'jute'\n",
      " 'apple' 'blackgram' 'mungbean' 'watermelon' 'mothbeans' 'apple' 'rice'\n",
      " 'papaya' 'mango' 'mungbean' 'grapes' 'coffee' 'coffee' 'blackgram'\n",
      " 'grapes' 'maize' 'lentil' 'maize' 'kidneybeans' 'rice' 'orange'\n",
      " 'mungbean' 'blackgram' 'jute' 'pomegranate' 'papaya' 'mango' 'chickpea'\n",
      " 'jute' 'muskmelon' 'apple' 'mungbean' 'muskmelon' 'papaya' 'grapes'\n",
      " 'rice' 'blackgram' 'coffee' 'jute' 'mango' 'jute' 'chickpea' 'mungbean'\n",
      " 'papaya' 'mango' 'papaya' 'apple' 'watermelon' 'mungbean' 'coffee'\n",
      " 'lentil' 'papaya' 'orange' 'chickpea' 'mothbeans' 'coconut' 'muskmelon'\n",
      " 'mothbeans' 'mothbeans' 'coconut' 'chickpea' 'coffee' 'chickpea' 'rice'\n",
      " 'pigeonpeas' 'pomegranate' 'chickpea' 'orange' 'pomegranate' 'coconut'\n",
      " 'kidneybeans' 'pomegranate' 'pomegranate' 'muskmelon' 'pomegranate'\n",
      " 'muskmelon' 'orange' 'banana' 'mango' 'lentil' 'muskmelon' 'coffee'\n",
      " 'apple' 'chickpea' 'lentil' 'apple' 'jute' 'blackgram' 'kidneybeans'\n",
      " 'lentil' 'blackgram' 'mungbean' 'kidneybeans' 'muskmelon' 'jute'\n",
      " 'mungbean' 'orange' 'grapes' 'mungbean' 'coffee' 'maize' 'blackgram'\n",
      " 'kidneybeans' 'maize' 'blackgram' 'pigeonpeas' 'mungbean' 'lentil'\n",
      " 'coconut' 'papaya' 'rice' 'jute' 'pomegranate' 'apple' 'lentil'\n",
      " 'kidneybeans' 'apple' 'grapes' 'banana' 'orange' 'mothbeans' 'apple'\n",
      " 'muskmelon' 'mango' 'coconut' 'mango' 'blackgram' 'maize' 'rice'\n",
      " 'kidneybeans' 'banana' 'maize' 'mango' 'lentil' 'cotton' 'coconut'\n",
      " 'lentil' 'pomegranate' 'grapes' 'muskmelon']\n"
     ]
    }
   ],
   "source": [
    "# load the model from disk\n",
    "loaded_model = pickle.load(open('knnpickle_file', 'rb'))\n",
    "result = loaded_model.predict(X_test) \n",
    "print(result)"
   ]
  },
  {
   "cell_type": "code",
   "execution_count": null,
   "id": "1d1b3978",
   "metadata": {},
   "outputs": [],
   "source": []
  }
 ],
 "metadata": {
  "kernelspec": {
   "display_name": "Python 3 (ipykernel)",
   "language": "python",
   "name": "python3"
  },
  "language_info": {
   "codemirror_mode": {
    "name": "ipython",
    "version": 3
   },
   "file_extension": ".py",
   "mimetype": "text/x-python",
   "name": "python",
   "nbconvert_exporter": "python",
   "pygments_lexer": "ipython3",
   "version": "3.9.7"
  },
  "vscode": {
   "interpreter": {
    "hash": "a47e1e2c49c050a34b8a1fd5e73ef0ffb5353ba12db54c1637a8441d5d8b2e0f"
   }
  }
 },
 "nbformat": 4,
 "nbformat_minor": 5
}
